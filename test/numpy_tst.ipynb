{
 "cells": [
  {
   "cell_type": "code",
   "execution_count": 1,
   "metadata": {
    "collapsed": true
   },
   "outputs": [],
   "source": [
    "import numpy as np"
   ]
  },
  {
   "cell_type": "code",
   "execution_count": 2,
   "metadata": {
    "collapsed": true
   },
   "outputs": [],
   "source": [
    "M1 = np.reshape(np.asarray([0,1,2,3,4,5,6,7]), (2,4))"
   ]
  },
  {
   "cell_type": "code",
   "execution_count": 3,
   "metadata": {
    "collapsed": true
   },
   "outputs": [],
   "source": [
    "M1 = np.reshape(np.asarray([0,1,2,3,4,5,6,7,8,9,10,11]), (3,4))"
   ]
  },
  {
   "cell_type": "code",
   "execution_count": 4,
   "metadata": {
    "collapsed": true
   },
   "outputs": [],
   "source": [
    "M2 = np.reshape(np.asarray([0,1,2,3,4,5,6,7]), (2,4))"
   ]
  },
  {
   "cell_type": "code",
   "execution_count": 5,
   "metadata": {},
   "outputs": [
    {
     "name": "stdout",
     "output_type": "stream",
     "text": [
      "[[ 0  1  2  3]\n",
      " [ 4  5  6  7]\n",
      " [ 8  9 10 11]]\n",
      "[[0 1 2 3]\n",
      " [4 5 6 7]]\n"
     ]
    }
   ],
   "source": [
    "print(M1)\n",
    "print(M2)"
   ]
  },
  {
   "cell_type": "code",
   "execution_count": 6,
   "metadata": {},
   "outputs": [
    {
     "ename": "ValueError",
     "evalue": "operands could not be broadcast together with shapes (3,4) (2,4) ",
     "traceback": [
      "\u001b[0;31m---------------------------------------------------------------------------\u001b[0m",
      "\u001b[0;31mValueError\u001b[0m                                Traceback (most recent call last)",
      "\u001b[0;32m<ipython-input-6-9a6243cb3a1e>\u001b[0m in \u001b[0;36m<module>\u001b[0;34m()\u001b[0m\n\u001b[0;32m----> 1\u001b[0;31m \u001b[0mprint\u001b[0m\u001b[1;33m(\u001b[0m\u001b[0mM1\u001b[0m \u001b[1;33m-\u001b[0m \u001b[0mM2\u001b[0m\u001b[1;33m)\u001b[0m\u001b[1;33m\u001b[0m\u001b[0m\n\u001b[0m",
      "\u001b[0;31mValueError\u001b[0m: operands could not be broadcast together with shapes (3,4) (2,4) "
     ],
     "output_type": "error"
    }
   ],
   "source": [
    "print(M1 - M2)"
   ]
  },
  {
   "cell_type": "code",
   "execution_count": 8,
   "metadata": {
    "collapsed": true
   },
   "outputs": [],
   "source": [
    "M2 = np.reshape(np.asarray([0,1,2,3,4,5,6,7,8,9,10,11]), (3,4))"
   ]
  },
  {
   "cell_type": "code",
   "execution_count": 9,
   "metadata": {},
   "outputs": [
    {
     "name": "stdout",
     "output_type": "stream",
     "text": [
      "[[0 0 0 0]\n",
      " [0 0 0 0]\n",
      " [0 0 0 0]]\n"
     ]
    }
   ],
   "source": [
    "print(M1 - M2)"
   ]
  },
  {
   "cell_type": "code",
   "execution_count": 1,
   "metadata": {},
   "outputs": [
    {
     "ename": "NameError",
     "evalue": "name 'np' is not defined",
     "traceback": [
      "\u001b[0;31m---------------------------------------------------------------------------\u001b[0m",
      "\u001b[0;31mNameError\u001b[0m                                 Traceback (most recent call last)",
      "\u001b[0;32m<ipython-input-1-972192744b7d>\u001b[0m in \u001b[0;36m<module>\u001b[0;34m()\u001b[0m\n\u001b[0;32m----> 1\u001b[0;31m \u001b[0mnp\u001b[0m\u001b[1;33m.\u001b[0m\u001b[0mreshape\u001b[0m\u001b[1;33m(\u001b[0m\u001b[0mnp\u001b[0m\u001b[1;33m.\u001b[0m\u001b[0masarray\u001b[0m\u001b[1;33m(\u001b[0m\u001b[1;33m[\u001b[0m\u001b[1;36m1\u001b[0m\u001b[1;33m,\u001b[0m\u001b[1;36m1\u001b[0m\u001b[1;33m,\u001b[0m\u001b[1;36m2\u001b[0m\u001b[1;33m,\u001b[0m\u001b[1;36m2\u001b[0m\u001b[1;33m]\u001b[0m\u001b[1;33m)\u001b[0m\u001b[1;33m,\u001b[0m \u001b[1;33m(\u001b[0m\u001b[1;36m1\u001b[0m\u001b[1;33m,\u001b[0m\u001b[1;36m4\u001b[0m\u001b[1;33m)\u001b[0m\u001b[1;33m)\u001b[0m\u001b[1;33m\u001b[0m\u001b[0m\n\u001b[0m",
      "\u001b[0;31mNameError\u001b[0m: name 'np' is not defined"
     ],
     "output_type": "error"
    }
   ],
   "source": [
    "np.reshape(np.asarray([1,1,2,2]), (1,4))"
   ]
  },
  {
   "cell_type": "code",
   "execution_count": 2,
   "metadata": {
    "collapsed": true
   },
   "outputs": [],
   "source": [
    "import numpy as np"
   ]
  },
  {
   "cell_type": "code",
   "execution_count": 3,
   "metadata": {},
   "outputs": [
    {
     "data": {
      "text/plain": [
       "array([[1, 1, 2, 2]])"
      ]
     },
     "execution_count": 3,
     "metadata": {},
     "output_type": "execute_result"
    }
   ],
   "source": [
    "np.reshape(np.asarray([1,1,2,2]), (1,4))"
   ]
  },
  {
   "cell_type": "code",
   "execution_count": 4,
   "metadata": {
    "collapsed": true
   },
   "outputs": [],
   "source": [
    "list = np.reshape(np.asarray([1,1,2,2]), (1,4))"
   ]
  },
  {
   "cell_type": "code",
   "execution_count": 5,
   "metadata": {
    "collapsed": true
   },
   "outputs": [],
   "source": [
    "gt_boxes = np.reshape(np.asarray([1,1,2,2]), (1,4))"
   ]
  },
  {
   "cell_type": "code",
   "execution_count": 6,
   "metadata": {},
   "outputs": [
    {
     "ename": "IndexError",
     "evalue": "index 1 is out of bounds for axis 0 with size 1",
     "traceback": [
      "\u001b[0;31m---------------------------------------------------------------------------\u001b[0m",
      "\u001b[0;31mIndexError\u001b[0m                                Traceback (most recent call last)",
      "\u001b[0;32m<ipython-input-6-9329336c6537>\u001b[0m in \u001b[0;36m<module>\u001b[0;34m()\u001b[0m\n\u001b[1;32m      1\u001b[0m \u001b[0mlist\u001b[0m \u001b[1;33m=\u001b[0m \u001b[1;33m[\u001b[0m\u001b[1;36m0\u001b[0m\u001b[1;33m,\u001b[0m\u001b[1;36m1\u001b[0m\u001b[1;33m]\u001b[0m\u001b[1;33m\u001b[0m\u001b[0m\n\u001b[0;32m----> 2\u001b[0;31m \u001b[0mprint\u001b[0m\u001b[1;33m(\u001b[0m\u001b[0mgt_boxes\u001b[0m\u001b[1;33m[\u001b[0m\u001b[0mlist\u001b[0m\u001b[1;33m,\u001b[0m \u001b[1;33m:\u001b[0m\u001b[1;33m]\u001b[0m\u001b[1;33m)\u001b[0m\u001b[1;33m\u001b[0m\u001b[0m\n\u001b[0m",
      "\u001b[0;31mIndexError\u001b[0m: index 1 is out of bounds for axis 0 with size 1"
     ],
     "output_type": "error"
    }
   ],
   "source": [
    "list = [0,1]\n",
    "print(gt_boxes[list, :])"
   ]
  },
  {
   "cell_type": "code",
   "execution_count": 1,
   "metadata": {
    "collapsed": true
   },
   "outputs": [],
   "source": [
    "import numpy as np\n",
    "\n",
    "anchors = np.reshape(np.asarray([0,0,1,1,0,0,2,2]), (2,4))"
   ]
  },
  {
   "cell_type": "code",
   "execution_count": 2,
   "metadata": {},
   "outputs": [
    {
     "data": {
      "text/plain": [
       "array([[0, 0, 1, 1],\n",
       "       [0, 0, 2, 2]])"
      ]
     },
     "execution_count": 2,
     "metadata": {},
     "output_type": "execute_result"
    }
   ],
   "source": [
    "anchors"
   ]
  },
  {
   "cell_type": "code",
   "execution_count": 3,
   "metadata": {},
   "outputs": [
    {
     "ename": "TypeError",
     "evalue": "asarray() takes from 1 to 3 positional arguments but 4 were given",
     "traceback": [
      "\u001b[0;31m---------------------------------------------------------------------------\u001b[0m",
      "\u001b[0;31mTypeError\u001b[0m                                 Traceback (most recent call last)",
      "\u001b[0;32m<ipython-input-3-3b1aa3c22082>\u001b[0m in \u001b[0;36m<module>\u001b[0;34m()\u001b[0m\n\u001b[0;32m----> 1\u001b[0;31m \u001b[0mgt_boxes\u001b[0m \u001b[1;33m=\u001b[0m \u001b[0mnp\u001b[0m\u001b[1;33m.\u001b[0m\u001b[0mreshape\u001b[0m\u001b[1;33m(\u001b[0m\u001b[0mnp\u001b[0m\u001b[1;33m.\u001b[0m\u001b[0masarray\u001b[0m\u001b[1;33m(\u001b[0m\u001b[1;36m0.5\u001b[0m\u001b[1;33m,\u001b[0m\u001b[1;36m0.5\u001b[0m\u001b[1;33m,\u001b[0m \u001b[1;36m1.5\u001b[0m\u001b[1;33m,\u001b[0m\u001b[1;36m1.5\u001b[0m\u001b[1;33m)\u001b[0m\u001b[1;33m,\u001b[0m \u001b[1;33m(\u001b[0m\u001b[1;36m1\u001b[0m\u001b[1;33m,\u001b[0m\u001b[1;36m4\u001b[0m\u001b[1;33m)\u001b[0m\u001b[1;33m)\u001b[0m\u001b[1;33m\u001b[0m\u001b[0m\n\u001b[0m",
      "\u001b[0;31mTypeError\u001b[0m: asarray() takes from 1 to 3 positional arguments but 4 were given"
     ],
     "output_type": "error"
    }
   ],
   "source": [
    "gt_boxes = np.reshape(np.asarray(0.5,0.5, 1.5,1.5), (1,4))"
   ]
  },
  {
   "cell_type": "code",
   "execution_count": 4,
   "metadata": {
    "collapsed": true
   },
   "outputs": [],
   "source": [
    "gt_boxes = np.reshape(np.asarray([0.5,0.5, 1.5,1.5]), (1,4))"
   ]
  },
  {
   "cell_type": "code",
   "execution_count": 5,
   "metadata": {},
   "outputs": [
    {
     "data": {
      "text/plain": [
       "array([[ 0.5,  0.5,  1.5,  1.5]])"
      ]
     },
     "execution_count": 5,
     "metadata": {},
     "output_type": "execute_result"
    }
   ],
   "source": [
    "gt_boxes"
   ]
  },
  {
   "cell_type": "code",
   "execution_count": 6,
   "metadata": {},
   "outputs": [
    {
     "ename": "ValueError",
     "evalue": "operands could not be broadcast together with shapes (2,) (0,4) ",
     "traceback": [
      "\u001b[0;31m---------------------------------------------------------------------------\u001b[0m",
      "\u001b[0;31mValueError\u001b[0m                                Traceback (most recent call last)",
      "\u001b[0;32m<ipython-input-6-fed3bf6d8811>\u001b[0m in \u001b[0;36m<module>\u001b[0;34m()\u001b[0m\n\u001b[0;32m----> 1\u001b[0;31m \u001b[0ma_width\u001b[0m \u001b[1;33m=\u001b[0m \u001b[0manchors\u001b[0m\u001b[1;33m[\u001b[0m\u001b[1;33m:\u001b[0m\u001b[1;33m,\u001b[0m \u001b[1;36m2\u001b[0m\u001b[1;33m]\u001b[0m \u001b[1;33m-\u001b[0m \u001b[0manchors\u001b[0m\u001b[1;33m[\u001b[0m\u001b[1;33m:\u001b[0m \u001b[1;36m0\u001b[0m\u001b[1;33m]\u001b[0m \u001b[1;33m+\u001b[0m \u001b[1;36m1.0\u001b[0m\u001b[1;33m\u001b[0m\u001b[0m\n\u001b[0m",
      "\u001b[0;31mValueError\u001b[0m: operands could not be broadcast together with shapes (2,) (0,4) "
     ],
     "output_type": "error"
    }
   ],
   "source": [
    "a_width = anchors[:, 2] - anchors[: 0] + 1.0"
   ]
  },
  {
   "cell_type": "code",
   "execution_count": 7,
   "metadata": {
    "collapsed": true
   },
   "outputs": [],
   "source": [
    "a_width = anchors[:, 2] - anchors[:, 0] + 1.0"
   ]
  },
  {
   "cell_type": "code",
   "execution_count": 8,
   "metadata": {},
   "outputs": [
    {
     "data": {
      "text/plain": [
       "array([ 2.,  3.])"
      ]
     },
     "execution_count": 8,
     "metadata": {},
     "output_type": "execute_result"
    }
   ],
   "source": [
    "a_width"
   ]
  },
  {
   "cell_type": "code",
   "execution_count": 9,
   "metadata": {
    "collapsed": true
   },
   "outputs": [],
   "source": [
    "a_width = anchors[:, 2] - anchors[:, 0] + 1.0\n",
    "a_height = anchors[:, 3] - anchors[:, 1] + 1.0\n",
    "a_cx = anchors[:, 0] + 0.5 * a_width\n",
    "a_cy = anchors[:, 1] + 0.5 * a_height"
   ]
  },
  {
   "cell_type": "code",
   "execution_count": 10,
   "metadata": {},
   "outputs": [
    {
     "data": {
      "text/plain": [
       "array([ 1. ,  1.5])"
      ]
     },
     "execution_count": 10,
     "metadata": {},
     "output_type": "execute_result"
    }
   ],
   "source": [
    "a_cx"
   ]
  },
  {
   "cell_type": "code",
   "execution_count": 11,
   "metadata": {
    "collapsed": true
   },
   "outputs": [],
   "source": [
    "gt_width = gt_boxes[:, 2] - gt_boxes[:, 0] + 1.0\n",
    "gt_height = gt_boxes[:, 3] - gt_boxes[:, 1] + 1.0\n",
    "gt_cx = gt_boxes[:, 0] + 0.5 * a_width\n",
    "gt_cy = gt_boxes[:, 1] + 0.5 * a_height"
   ]
  },
  {
   "cell_type": "code",
   "execution_count": 13,
   "metadata": {},
   "outputs": [
    {
     "data": {
      "text/plain": [
       "array([ 2.])"
      ]
     },
     "execution_count": 13,
     "metadata": {},
     "output_type": "execute_result"
    }
   ],
   "source": [
    "gt_width"
   ]
  },
  {
   "cell_type": "code",
   "execution_count": 14,
   "metadata": {},
   "outputs": [
    {
     "data": {
      "text/plain": [
       "array([ 2.])"
      ]
     },
     "execution_count": 14,
     "metadata": {},
     "output_type": "execute_result"
    }
   ],
   "source": [
    "gt_height"
   ]
  },
  {
   "cell_type": "code",
   "execution_count": 15,
   "metadata": {
    "collapsed": true
   },
   "outputs": [],
   "source": [
    "target_dx = (gt_cx - a_cx) / a_width"
   ]
  },
  {
   "cell_type": "code",
   "execution_count": 16,
   "metadata": {},
   "outputs": [
    {
     "data": {
      "text/plain": [
       "array([ 0.25      ,  0.16666667])"
      ]
     },
     "execution_count": 16,
     "metadata": {},
     "output_type": "execute_result"
    }
   ],
   "source": [
    "target_dx"
   ]
  },
  {
   "cell_type": "code",
   "execution_count": 17,
   "metadata": {},
   "outputs": [
    {
     "ename": "TypeError",
     "evalue": "asarray() takes from 1 to 3 positional arguments but 8 were given",
     "traceback": [
      "\u001b[0;31m---------------------------------------------------------------------------\u001b[0m",
      "\u001b[0;31mTypeError\u001b[0m                                 Traceback (most recent call last)",
      "\u001b[0;32m<ipython-input-17-e34cb013d640>\u001b[0m in \u001b[0;36m<module>\u001b[0;34m()\u001b[0m\n\u001b[0;32m----> 1\u001b[0;31m \u001b[0mgt_boxes\u001b[0m \u001b[1;33m=\u001b[0m \u001b[0mnp\u001b[0m\u001b[1;33m.\u001b[0m\u001b[0mreshape\u001b[0m\u001b[1;33m(\u001b[0m\u001b[0mnp\u001b[0m\u001b[1;33m.\u001b[0m\u001b[0masarray\u001b[0m\u001b[1;33m(\u001b[0m\u001b[1;36m0.5\u001b[0m\u001b[1;33m,\u001b[0m\u001b[1;36m0.5\u001b[0m\u001b[1;33m,\u001b[0m \u001b[1;36m1.5\u001b[0m\u001b[1;33m,\u001b[0m\u001b[1;36m1.5\u001b[0m\u001b[1;33m,\u001b[0m \u001b[1;36m0\u001b[0m\u001b[1;33m,\u001b[0m \u001b[1;36m0\u001b[0m\u001b[1;33m,\u001b[0m \u001b[1;36m0.5\u001b[0m\u001b[1;33m,\u001b[0m \u001b[1;36m0.5\u001b[0m\u001b[1;33m)\u001b[0m\u001b[1;33m,\u001b[0m \u001b[1;33m(\u001b[0m\u001b[1;36m2\u001b[0m\u001b[1;33m,\u001b[0m\u001b[1;36m4\u001b[0m\u001b[1;33m)\u001b[0m\u001b[1;33m)\u001b[0m\u001b[1;33m\u001b[0m\u001b[0m\n\u001b[0m",
      "\u001b[0;31mTypeError\u001b[0m: asarray() takes from 1 to 3 positional arguments but 8 were given"
     ],
     "output_type": "error"
    }
   ],
   "source": [
    "gt_boxes = np.reshape(np.asarray(0.5,0.5, 1.5,1.5, 0, 0, 0.5, 0.5), (2,4))"
   ]
  },
  {
   "cell_type": "code",
   "execution_count": 18,
   "metadata": {
    "collapsed": true
   },
   "outputs": [],
   "source": [
    "gt_boxes = np.reshape(np.asarray([0.5,0.5, 1.5,1.5, 0, 0, 0.5, 0.5]), (2,4))"
   ]
  },
  {
   "cell_type": "code",
   "execution_count": 19,
   "metadata": {},
   "outputs": [
    {
     "data": {
      "text/plain": [
       "array([[ 0.5,  0.5,  1.5,  1.5],\n",
       "       [ 0. ,  0. ,  0.5,  0.5]])"
      ]
     },
     "execution_count": 19,
     "metadata": {},
     "output_type": "execute_result"
    }
   ],
   "source": [
    "gt_boxes"
   ]
  },
  {
   "cell_type": "code",
   "execution_count": 20,
   "metadata": {
    "collapsed": true
   },
   "outputs": [],
   "source": [
    "gt_width = gt_boxes[:, 2] - gt_boxes[:, 0] + 1.0\n",
    "gt_height = gt_boxes[:, 3] - gt_boxes[:, 1] + 1.0\n",
    "gt_cx = gt_boxes[:, 0] + 0.5 * a_width\n",
    "gt_cy = gt_boxes[:, 1] + 0.5 * a_height"
   ]
  },
  {
   "cell_type": "code",
   "execution_count": 21,
   "metadata": {
    "collapsed": true
   },
   "outputs": [],
   "source": [
    "target_dx = (gt_cx - a_cx) / a_width"
   ]
  },
  {
   "cell_type": "code",
   "execution_count": 22,
   "metadata": {},
   "outputs": [
    {
     "data": {
      "text/plain": [
       "array([ 0.25,  0.  ])"
      ]
     },
     "execution_count": 22,
     "metadata": {},
     "output_type": "execute_result"
    }
   ],
   "source": [
    "target_dx"
   ]
  },
  {
   "cell_type": "code",
   "execution_count": 23,
   "metadata": {},
   "outputs": [
    {
     "data": {
      "text/plain": [
       "array([[ 0.5,  0.5,  1.5,  1.5],\n",
       "       [ 0. ,  0. ,  0.5,  0.5]])"
      ]
     },
     "execution_count": 23,
     "metadata": {},
     "output_type": "execute_result"
    }
   ],
   "source": [
    "gt_boxes"
   ]
  },
  {
   "cell_type": "code",
   "execution_count": 24,
   "metadata": {},
   "outputs": [
    {
     "data": {
      "text/plain": [
       "array([[ 0.5,  0.5,  1.5,  1.5],\n",
       "       [ 0.5,  0.5,  1.5,  1.5]])"
      ]
     },
     "execution_count": 24,
     "metadata": {},
     "output_type": "execute_result"
    }
   ],
   "source": [
    "gt_boxes[[0,0], :]"
   ]
  },
  {
   "cell_type": "code",
   "execution_count": 25,
   "metadata": {
    "collapsed": true
   },
   "outputs": [],
   "source": [
    "anchors = np.random.randint(10, size=(4, 20))"
   ]
  },
  {
   "cell_type": "code",
   "execution_count": 26,
   "metadata": {},
   "outputs": [
    {
     "data": {
      "text/plain": [
       "array([[8, 8, 8, 9, 6, 7, 7, 7, 6, 4, 3, 0, 0, 3, 5, 9, 1, 8, 7, 8],\n",
       "       [5, 3, 3, 1, 9, 2, 9, 4, 5, 3, 9, 0, 1, 1, 0, 9, 9, 0, 3, 5],\n",
       "       [7, 3, 7, 8, 8, 9, 5, 2, 2, 0, 5, 9, 0, 7, 7, 3, 5, 8, 0, 2],\n",
       "       [6, 0, 3, 3, 1, 8, 3, 5, 6, 0, 3, 3, 7, 5, 4, 1, 2, 1, 8, 9]])"
      ]
     },
     "execution_count": 26,
     "metadata": {},
     "output_type": "execute_result"
    }
   ],
   "source": [
    "anchors"
   ]
  },
  {
   "cell_type": "code",
   "execution_count": 27,
   "metadata": {
    "collapsed": true
   },
   "outputs": [],
   "source": [
    "anchors = np.random.randint(10, size=(20, 4))"
   ]
  },
  {
   "cell_type": "code",
   "execution_count": 28,
   "metadata": {},
   "outputs": [
    {
     "data": {
      "text/plain": [
       "array([[3, 3, 4, 1],\n",
       "       [8, 8, 0, 6],\n",
       "       [9, 1, 8, 3],\n",
       "       [1, 9, 1, 8],\n",
       "       [3, 4, 1, 2],\n",
       "       [0, 4, 7, 5],\n",
       "       [1, 2, 6, 8],\n",
       "       [3, 2, 2, 0],\n",
       "       [3, 4, 8, 6],\n",
       "       [6, 2, 4, 6],\n",
       "       [9, 4, 5, 7],\n",
       "       [4, 5, 5, 9],\n",
       "       [4, 9, 1, 9],\n",
       "       [4, 6, 0, 3],\n",
       "       [0, 4, 1, 3],\n",
       "       [0, 8, 9, 1],\n",
       "       [0, 3, 7, 2],\n",
       "       [1, 6, 6, 3],\n",
       "       [9, 7, 7, 3],\n",
       "       [7, 9, 5, 3]])"
      ]
     },
     "execution_count": 28,
     "metadata": {},
     "output_type": "execute_result"
    }
   ],
   "source": [
    "anchors"
   ]
  },
  {
   "cell_type": "code",
   "execution_count": 29,
   "metadata": {
    "collapsed": true
   },
   "outputs": [],
   "source": [
    "gt_boxes = np.random.randint(5, size=(3, 4))"
   ]
  },
  {
   "cell_type": "code",
   "execution_count": 30,
   "metadata": {},
   "outputs": [
    {
     "data": {
      "text/plain": [
       "array([[1, 4, 3, 0],\n",
       "       [2, 3, 2, 1],\n",
       "       [2, 3, 4, 0]])"
      ]
     },
     "execution_count": 30,
     "metadata": {},
     "output_type": "execute_result"
    }
   ],
   "source": [
    "gt_boxes"
   ]
  },
  {
   "cell_type": "code",
   "execution_count": 31,
   "metadata": {
    "collapsed": true
   },
   "outputs": [],
   "source": [
    "a_width = anchors[:, 2] - anchors[:, 0] + 1.0\n",
    "a_height = anchors[:, 3] - anchors[:, 1] + 1.0\n",
    "a_cx = anchors[:, 0] + 0.5 * a_width\n",
    "a_cy = anchors[:, 1] + 0.5 * a_height"
   ]
  },
  {
   "cell_type": "code",
   "execution_count": 32,
   "metadata": {},
   "outputs": [
    {
     "ename": "ValueError",
     "evalue": "operands could not be broadcast together with shapes (3,) (20,) ",
     "traceback": [
      "\u001b[0;31m---------------------------------------------------------------------------\u001b[0m",
      "\u001b[0;31mValueError\u001b[0m                                Traceback (most recent call last)",
      "\u001b[0;32m<ipython-input-32-c1262378f0bc>\u001b[0m in \u001b[0;36m<module>\u001b[0;34m()\u001b[0m\n\u001b[1;32m      1\u001b[0m \u001b[0mgt_width\u001b[0m \u001b[1;33m=\u001b[0m \u001b[0mgt_boxes\u001b[0m\u001b[1;33m[\u001b[0m\u001b[1;33m:\u001b[0m\u001b[1;33m,\u001b[0m \u001b[1;36m2\u001b[0m\u001b[1;33m]\u001b[0m \u001b[1;33m-\u001b[0m \u001b[0mgt_boxes\u001b[0m\u001b[1;33m[\u001b[0m\u001b[1;33m:\u001b[0m\u001b[1;33m,\u001b[0m \u001b[1;36m0\u001b[0m\u001b[1;33m]\u001b[0m \u001b[1;33m+\u001b[0m \u001b[1;36m1.0\u001b[0m\u001b[1;33m\u001b[0m\u001b[0m\n\u001b[1;32m      2\u001b[0m \u001b[0mgt_height\u001b[0m \u001b[1;33m=\u001b[0m \u001b[0mgt_boxes\u001b[0m\u001b[1;33m[\u001b[0m\u001b[1;33m:\u001b[0m\u001b[1;33m,\u001b[0m \u001b[1;36m3\u001b[0m\u001b[1;33m]\u001b[0m \u001b[1;33m-\u001b[0m \u001b[0mgt_boxes\u001b[0m\u001b[1;33m[\u001b[0m\u001b[1;33m:\u001b[0m\u001b[1;33m,\u001b[0m \u001b[1;36m1\u001b[0m\u001b[1;33m]\u001b[0m \u001b[1;33m+\u001b[0m \u001b[1;36m1.0\u001b[0m\u001b[1;33m\u001b[0m\u001b[0m\n\u001b[0;32m----> 3\u001b[0;31m \u001b[0mgt_cx\u001b[0m \u001b[1;33m=\u001b[0m \u001b[0mgt_boxes\u001b[0m\u001b[1;33m[\u001b[0m\u001b[1;33m:\u001b[0m\u001b[1;33m,\u001b[0m \u001b[1;36m0\u001b[0m\u001b[1;33m]\u001b[0m \u001b[1;33m+\u001b[0m \u001b[1;36m0.5\u001b[0m \u001b[1;33m*\u001b[0m \u001b[0ma_width\u001b[0m\u001b[1;33m\u001b[0m\u001b[0m\n\u001b[0m\u001b[1;32m      4\u001b[0m \u001b[0mgt_cy\u001b[0m \u001b[1;33m=\u001b[0m \u001b[0mgt_boxes\u001b[0m\u001b[1;33m[\u001b[0m\u001b[1;33m:\u001b[0m\u001b[1;33m,\u001b[0m \u001b[1;36m1\u001b[0m\u001b[1;33m]\u001b[0m \u001b[1;33m+\u001b[0m \u001b[1;36m0.5\u001b[0m \u001b[1;33m*\u001b[0m \u001b[0ma_height\u001b[0m\u001b[1;33m\u001b[0m\u001b[0m\n",
      "\u001b[0;31mValueError\u001b[0m: operands could not be broadcast together with shapes (3,) (20,) "
     ],
     "output_type": "error"
    }
   ],
   "source": [
    "gt_width = gt_boxes[:, 2] - gt_boxes[:, 0] + 1.0\n",
    "gt_height = gt_boxes[:, 3] - gt_boxes[:, 1] + 1.0\n",
    "gt_cx = gt_boxes[:, 0] + 0.5 * gt_width\n",
    "gt_cy = gt_boxes[:, 1] + 0.5 * gt_height"
   ]
  },
  {
   "cell_type": "code",
   "execution_count": 33,
   "metadata": {
    "collapsed": true
   },
   "outputs": [],
   "source": [
    "gt_width = gt_boxes[:, 2] - gt_boxes[:, 0] + 1.0\n",
    "gt_height = gt_boxes[:, 3] - gt_boxes[:, 1] + 1.0\n",
    "gt_cx = gt_boxes[:, 0] + 0.5 * gt_width\n",
    "gt_cy = gt_boxes[:, 1] + 0.5 * gt_height"
   ]
  },
  {
   "cell_type": "code",
   "execution_count": 34,
   "metadata": {},
   "outputs": [
    {
     "data": {
      "text/plain": [
       "array([ 2.5,  2.5,  3.5])"
      ]
     },
     "execution_count": 34,
     "metadata": {},
     "output_type": "execute_result"
    }
   ],
   "source": [
    "gt_cx"
   ]
  },
  {
   "cell_type": "code",
   "execution_count": 35,
   "metadata": {},
   "outputs": [
    {
     "ename": "ValueError",
     "evalue": "operands could not be broadcast together with shapes (3,) (20,) ",
     "traceback": [
      "\u001b[0;31m---------------------------------------------------------------------------\u001b[0m",
      "\u001b[0;31mValueError\u001b[0m                                Traceback (most recent call last)",
      "\u001b[0;32m<ipython-input-35-e1dee854496c>\u001b[0m in \u001b[0;36m<module>\u001b[0;34m()\u001b[0m\n\u001b[0;32m----> 1\u001b[0;31m \u001b[0mtarget_dx\u001b[0m \u001b[1;33m=\u001b[0m \u001b[1;33m(\u001b[0m\u001b[0mgt_cx\u001b[0m \u001b[1;33m-\u001b[0m \u001b[0ma_cx\u001b[0m\u001b[1;33m)\u001b[0m \u001b[1;33m/\u001b[0m \u001b[0ma_width\u001b[0m\u001b[1;33m\u001b[0m\u001b[0m\n\u001b[0m",
      "\u001b[0;31mValueError\u001b[0m: operands could not be broadcast together with shapes (3,) (20,) "
     ],
     "output_type": "error"
    }
   ],
   "source": [
    "target_dx = (gt_cx - a_cx) / a_width"
   ]
  },
  {
   "cell_type": "code",
   "execution_count": 36,
   "metadata": {},
   "outputs": [
    {
     "data": {
      "text/plain": [
       "array([ 2.5,  2.5,  3.5])"
      ]
     },
     "execution_count": 36,
     "metadata": {},
     "output_type": "execute_result"
    }
   ],
   "source": [
    "gt_cx"
   ]
  },
  {
   "cell_type": "code",
   "execution_count": 37,
   "metadata": {},
   "outputs": [
    {
     "data": {
      "text/plain": [
       "array([ 4. ,  4.5,  9. ,  1.5,  2.5,  4. ,  4. ,  3. ,  6. ,  5.5,  7.5,\n",
       "        5. ,  3. ,  2.5,  1. ,  5. ,  4. ,  4. ,  8.5,  6.5])"
      ]
     },
     "execution_count": 37,
     "metadata": {},
     "output_type": "execute_result"
    }
   ],
   "source": [
    "a_cx"
   ]
  },
  {
   "cell_type": "code",
   "execution_count": 38,
   "metadata": {},
   "outputs": [
    {
     "data": {
      "text/plain": [
       "array([2, 0, 0, 1, 1, 2, 3, 0, 2, 0, 0, 3, 1, 1, 1, 2, 2, 1, 0, 1], dtype=int64)"
      ]
     },
     "execution_count": 38,
     "metadata": {},
     "output_type": "execute_result"
    }
   ],
   "source": [
    "anchors.argmax(axis=1)"
   ]
  },
  {
   "cell_type": "code",
   "execution_count": 39,
   "metadata": {
    "collapsed": true
   },
   "outputs": [],
   "source": [
    "labels = [1,1,0,0,0,1,0,1]"
   ]
  },
  {
   "cell_type": "code",
   "execution_count": 40,
   "metadata": {},
   "outputs": [
    {
     "data": {
      "text/plain": [
       "False"
      ]
     },
     "execution_count": 40,
     "metadata": {},
     "output_type": "execute_result"
    }
   ],
   "source": [
    "labels == 1"
   ]
  },
  {
   "cell_type": "code",
   "execution_count": 41,
   "metadata": {
    "collapsed": true
   },
   "outputs": [],
   "source": [
    "labels = np.random.randint(1, size=(10, ))"
   ]
  },
  {
   "cell_type": "code",
   "execution_count": 42,
   "metadata": {},
   "outputs": [
    {
     "data": {
      "text/plain": [
       "array([0, 0, 0, 0, 0, 0, 0, 0, 0, 0])"
      ]
     },
     "execution_count": 42,
     "metadata": {},
     "output_type": "execute_result"
    }
   ],
   "source": [
    "labels"
   ]
  },
  {
   "cell_type": "code",
   "execution_count": 51,
   "metadata": {
    "collapsed": true
   },
   "outputs": [],
   "source": [
    "labels = np.random.randint(2, size=(20, ))"
   ]
  },
  {
   "cell_type": "code",
   "execution_count": 52,
   "metadata": {},
   "outputs": [
    {
     "data": {
      "text/plain": [
       "array([0, 0, 1, 0, 0, 1, 0, 0, 0, 1, 0, 1, 1, 0, 1, 1, 1, 0, 0, 1])"
      ]
     },
     "execution_count": 52,
     "metadata": {},
     "output_type": "execute_result"
    }
   ],
   "source": [
    "labels"
   ]
  },
  {
   "cell_type": "code",
   "execution_count": 53,
   "metadata": {
    "collapsed": true
   },
   "outputs": [],
   "source": [
    "inds_inside = np.random.randint(2, size=(20, ))"
   ]
  },
  {
   "cell_type": "code",
   "execution_count": 54,
   "metadata": {
    "collapsed": true
   },
   "outputs": [],
   "source": [
    "bbox_inside_weights = np.zeros((len(inds_inside), 4), dtype=np.float32)"
   ]
  },
  {
   "cell_type": "code",
   "execution_count": 55,
   "metadata": {},
   "outputs": [
    {
     "data": {
      "text/plain": [
       "array([[ 0.,  0.,  0.,  0.],\n",
       "       [ 0.,  0.,  0.,  0.],\n",
       "       [ 0.,  0.,  0.,  0.],\n",
       "       [ 0.,  0.,  0.,  0.],\n",
       "       [ 0.,  0.,  0.,  0.],\n",
       "       [ 0.,  0.,  0.,  0.],\n",
       "       [ 0.,  0.,  0.,  0.],\n",
       "       [ 0.,  0.,  0.,  0.],\n",
       "       [ 0.,  0.,  0.,  0.],\n",
       "       [ 0.,  0.,  0.,  0.],\n",
       "       [ 0.,  0.,  0.,  0.],\n",
       "       [ 0.,  0.,  0.,  0.],\n",
       "       [ 0.,  0.,  0.,  0.],\n",
       "       [ 0.,  0.,  0.,  0.],\n",
       "       [ 0.,  0.,  0.,  0.],\n",
       "       [ 0.,  0.,  0.,  0.],\n",
       "       [ 0.,  0.,  0.,  0.],\n",
       "       [ 0.,  0.,  0.,  0.],\n",
       "       [ 0.,  0.,  0.,  0.],\n",
       "       [ 0.,  0.,  0.,  0.]], dtype=float32)"
      ]
     },
     "execution_count": 55,
     "metadata": {},
     "output_type": "execute_result"
    }
   ],
   "source": [
    "bbox_inside_weights"
   ]
  },
  {
   "cell_type": "code",
   "execution_count": 56,
   "metadata": {},
   "outputs": [
    {
     "data": {
      "text/plain": [
       "array([[ 0.,  0.,  0.,  0.],\n",
       "       [ 0.,  0.,  0.,  0.],\n",
       "       [ 0.,  0.,  0.,  0.],\n",
       "       [ 0.,  0.,  0.,  0.],\n",
       "       [ 0.,  0.,  0.,  0.],\n",
       "       [ 0.,  0.,  0.,  0.],\n",
       "       [ 0.,  0.,  0.,  0.],\n",
       "       [ 0.,  0.,  0.,  0.],\n",
       "       [ 0.,  0.,  0.,  0.]], dtype=float32)"
      ]
     },
     "execution_count": 56,
     "metadata": {},
     "output_type": "execute_result"
    }
   ],
   "source": [
    "bbox_inside_weights[labels == 1, :]"
   ]
  },
  {
   "cell_type": "code",
   "execution_count": 57,
   "metadata": {
    "collapsed": true
   },
   "outputs": [],
   "source": [
    "bbox_inside_weights[labels == 1, :] = np.array([1.,1.,1.,1.])"
   ]
  },
  {
   "cell_type": "code",
   "execution_count": 58,
   "metadata": {},
   "outputs": [
    {
     "data": {
      "text/plain": [
       "array([[ 0.,  0.,  0.,  0.],\n",
       "       [ 0.,  0.,  0.,  0.],\n",
       "       [ 1.,  1.,  1.,  1.],\n",
       "       [ 0.,  0.,  0.,  0.],\n",
       "       [ 0.,  0.,  0.,  0.],\n",
       "       [ 1.,  1.,  1.,  1.],\n",
       "       [ 0.,  0.,  0.,  0.],\n",
       "       [ 0.,  0.,  0.,  0.],\n",
       "       [ 0.,  0.,  0.,  0.],\n",
       "       [ 1.,  1.,  1.,  1.],\n",
       "       [ 0.,  0.,  0.,  0.],\n",
       "       [ 1.,  1.,  1.,  1.],\n",
       "       [ 1.,  1.,  1.,  1.],\n",
       "       [ 0.,  0.,  0.,  0.],\n",
       "       [ 1.,  1.,  1.,  1.],\n",
       "       [ 1.,  1.,  1.,  1.],\n",
       "       [ 1.,  1.,  1.,  1.],\n",
       "       [ 0.,  0.,  0.,  0.],\n",
       "       [ 0.,  0.,  0.,  0.],\n",
       "       [ 1.,  1.,  1.,  1.]], dtype=float32)"
      ]
     },
     "execution_count": 58,
     "metadata": {},
     "output_type": "execute_result"
    }
   ],
   "source": [
    "bbox_inside_weights"
   ]
  },
  {
   "cell_type": "code",
   "execution_count": 59,
   "metadata": {},
   "outputs": [
    {
     "ename": "SyntaxError",
     "evalue": "can't use starred expression here (<ipython-input-59-ac3bb2e75546>, line 1)",
     "traceback": [
      "\u001b[0;36m  File \u001b[0;32m\"<ipython-input-59-ac3bb2e75546>\"\u001b[0;36m, line \u001b[0;32m1\u001b[0m\n\u001b[0;31m    *labels.shape\u001b[0m\n\u001b[0m                 ^\u001b[0m\n\u001b[0;31mSyntaxError\u001b[0m\u001b[0;31m:\u001b[0m can't use starred expression here\n"
     ],
     "output_type": "error"
    }
   ],
   "source": [
    "*labels.shape"
   ]
  },
  {
   "cell_type": "code",
   "execution_count": 60,
   "metadata": {},
   "outputs": [
    {
     "data": {
      "text/plain": [
       "array([0, 0, 1, 0, 0, 1, 0, 0, 0, 1, 0, 1, 1, 0, 1, 1, 1, 0, 0, 1])"
      ]
     },
     "execution_count": 60,
     "metadata": {},
     "output_type": "execute_result"
    }
   ],
   "source": [
    "labels[...]"
   ]
  },
  {
   "cell_type": "code",
   "execution_count": 1,
   "metadata": {
    "collapsed": true
   },
   "outputs": [],
   "source": [
    "import numpy as np"
   ]
  },
  {
   "cell_type": "code",
   "execution_count": 2,
   "metadata": {
    "collapsed": true
   },
   "outputs": [],
   "source": [
    "A = np.random.rand(1, 18, 14, 14)"
   ]
  },
  {
   "cell_type": "code",
   "execution_count": 3,
   "metadata": {},
   "outputs": [
    {
     "name": "stdout",
     "output_type": "stream",
     "text": [
      "[[[[ 0.81666353  0.94975114  0.43913862 ...,  0.62892944  0.30714919\n",
      "     0.72557191]\n",
      "   [ 0.57013005  0.90871795  0.02086153 ...,  0.67910799  0.16136356\n",
      "     0.01369628]\n",
      "   [ 0.00904167  0.27881975  0.43406179 ...,  0.21471885  0.92716768\n",
      "     0.3962783 ]\n",
      "   ..., \n",
      "   [ 0.73330889  0.10017152  0.0812435  ...,  0.22488265  0.2079203\n",
      "     0.40969509]\n",
      "   [ 0.97045708  0.60685634  0.11291533 ...,  0.31252112  0.75699921\n",
      "     0.05132858]\n",
      "   [ 0.67719305  0.06638636  0.92541795 ...,  0.25845405  0.02780686\n",
      "     0.28900992]]\n",
      "\n",
      "  [[ 0.80188226  0.65003994  0.6514488  ...,  0.41970953  0.06171467\n",
      "     0.6588547 ]\n",
      "   [ 0.71690768  0.82007021  0.79329637 ...,  0.59788089  0.24411271\n",
      "     0.7427932 ]\n",
      "   [ 0.6109924   0.03590853  0.79722834 ...,  0.55592708  0.93437824\n",
      "     0.18308626]\n",
      "   ..., \n",
      "   [ 0.50124169  0.65049915  0.59356173 ...,  0.99916828  0.41188166\n",
      "     0.02953434]\n",
      "   [ 0.53286342  0.80100958  0.95203108 ...,  0.51313604  0.1415146\n",
      "     0.5811162 ]\n",
      "   [ 0.50878375  0.26841234  0.94742404 ...,  0.80409373  0.24649478\n",
      "     0.14431921]]\n",
      "\n",
      "  [[ 0.08113084  0.85763046  0.29435252 ...,  0.29753313  0.68017898\n",
      "     0.11765095]\n",
      "   [ 0.48865656  0.28730725  0.63357981 ...,  0.8625274   0.13369254\n",
      "     0.38780241]\n",
      "   [ 0.68594484  0.04858702  0.75900611 ...,  0.97587713  0.77792247\n",
      "     0.3039677 ]\n",
      "   ..., \n",
      "   [ 0.84008832  0.81805959  0.57809553 ...,  0.1772061   0.90368168\n",
      "     0.47684758]\n",
      "   [ 0.46042733  0.41635877  0.33185681 ...,  0.11987047  0.92577827\n",
      "     0.59249781]\n",
      "   [ 0.96540139  0.29889861  0.18719571 ...,  0.18047454  0.44619138\n",
      "     0.24223771]]\n",
      "\n",
      "  ..., \n",
      "  [[ 0.17794465  0.21193228  0.39521131 ...,  0.61527207  0.83804492\n",
      "     0.02039756]\n",
      "   [ 0.74811561  0.94946312  0.75168684 ...,  0.85418619  0.21832631\n",
      "     0.38820781]\n",
      "   [ 0.01173528  0.09939619  0.21154002 ...,  0.8938161   0.16260371\n",
      "     0.81531155]\n",
      "   ..., \n",
      "   [ 0.96823814  0.89540123  0.71306036 ...,  0.79533697  0.92684195\n",
      "     0.85151968]\n",
      "   [ 0.03329997  0.62705589  0.34149182 ...,  0.51087186  0.83732987\n",
      "     0.75028493]\n",
      "   [ 0.48577868  0.90170687  0.68524225 ...,  0.3801388   0.48683035\n",
      "     0.7253234 ]]\n",
      "\n",
      "  [[ 0.4943069   0.91899256  0.93698437 ...,  0.25601486  0.82351271\n",
      "     0.36157335]\n",
      "   [ 0.77669154  0.7221867   0.62266869 ...,  0.50573099  0.58181462\n",
      "     0.76773852]\n",
      "   [ 0.05728631  0.04922246  0.78962639 ...,  0.96194172  0.61727711\n",
      "     0.63442705]\n",
      "   ..., \n",
      "   [ 0.28249822  0.35912962  0.97220583 ...,  0.91003871  0.80783515\n",
      "     0.8558803 ]\n",
      "   [ 0.81284563  0.25885022  0.13774371 ...,  0.01698931  0.4326193\n",
      "     0.08541844]\n",
      "   [ 0.17099074  0.00293453  0.24016853 ...,  0.53194182  0.95168138\n",
      "     0.32470584]]\n",
      "\n",
      "  [[ 0.48144633  0.79934476  0.61958571 ...,  0.84645277  0.70537662\n",
      "     0.52764894]\n",
      "   [ 0.37083505  0.08630309  0.30563256 ...,  0.22252969  0.8031205\n",
      "     0.9821175 ]\n",
      "   [ 0.5238863   0.53369522  0.06535153 ...,  0.99710766  0.11753058\n",
      "     0.36588644]\n",
      "   ..., \n",
      "   [ 0.55283755  0.98520099  0.76812606 ...,  0.53526912  0.9446136\n",
      "     0.75580072]\n",
      "   [ 0.43820815  0.27207978  0.0888685  ...,  0.76700926  0.82667744\n",
      "     0.25421728]\n",
      "   [ 0.45429073  0.06437411  0.4709461  ...,  0.18663079  0.75683525\n",
      "     0.90309227]]]]\n"
     ]
    }
   ],
   "source": [
    "print(A)"
   ]
  },
  {
   "cell_type": "code",
   "execution_count": 4,
   "metadata": {},
   "outputs": [
    {
     "name": "stdout",
     "output_type": "stream",
     "text": [
      "(1, 18, 14, 14)\n"
     ]
    }
   ],
   "source": [
    "print(A.shape)"
   ]
  },
  {
   "cell_type": "code",
   "execution_count": 5,
   "metadata": {},
   "outputs": [
    {
     "name": "stdout",
     "output_type": "stream",
     "text": [
      "[[[ 0.89270616  0.31196482  0.63725305  0.81300127  0.40261288  0.13369573\n",
      "    0.25072603  0.02494425  0.76498698  0.00354713  0.3484799   0.38687061\n",
      "    0.54330122  0.89541359]\n",
      "  [ 0.52462474  0.99371649  0.43015672  0.4855429   0.68163574  0.27652197\n",
      "    0.83162949  0.757136    0.78589808  0.49152046  0.56654545  0.89801526\n",
      "    0.69734746  0.84517579]\n",
      "  [ 0.36501849  0.34170651  0.79630611  0.33542183  0.88153124  0.22311459\n",
      "    0.22136604  0.4990484   0.28010603  0.19101288  0.00177319  0.49712236\n",
      "    0.98926649  0.30324028]\n",
      "  [ 0.55735276  0.8648342   0.74687697  0.49441741  0.12597852  0.28161238\n",
      "    0.89438765  0.71236734  0.70207166  0.72003611  0.18546375  0.23665154\n",
      "    0.16463757  0.10429498]\n",
      "  [ 0.11458812  0.92918215  0.44723816  0.97900824  0.5955667   0.70564306\n",
      "    0.64047336  0.03720601  0.179974    0.94595523  0.39511027  0.23254694\n",
      "    0.6367032   0.17103693]\n",
      "  [ 0.60981004  0.29667831  0.87735922  0.4232792   0.83383172  0.16762619\n",
      "    0.87136373  0.79484488  0.98619451  0.40615263  0.83125594  0.34531827\n",
      "    0.1574254   0.06541119]\n",
      "  [ 0.36818695  0.87502954  0.67650746  0.19786451  0.79142018  0.9139654\n",
      "    0.52568866  0.24174961  0.09054998  0.74723294  0.96504295  0.57467507\n",
      "    0.45134442  0.61035818]\n",
      "  [ 0.98302544  0.90086857  0.19719734  0.87254359  0.86420077  0.05607408\n",
      "    0.56384833  0.84010024  0.15077558  0.54374266  0.74481126  0.59646455\n",
      "    0.05830191  0.27023263]\n",
      "  [ 0.24198718  0.82349512  0.59770976  0.94761552  0.13689908  0.43586926\n",
      "    0.63873372  0.50405123  0.08635511  0.92664081  0.86582227  0.13566191\n",
      "    0.88972324  0.77724008]\n",
      "  [ 0.90336309  0.74623183  0.47840035  0.53861618  0.9430751   0.89001848\n",
      "    0.45650917  0.54650069  0.55662675  0.13116929  0.37579443  0.42854857\n",
      "    0.88237785  0.89205072]\n",
      "  [ 0.26785677  0.1331954   0.49874266  0.62945261  0.779414    0.80692868\n",
      "    0.72189184  0.52340096  0.07458805  0.50445487  0.80970992  0.43377417\n",
      "    0.09681732  0.33654793]\n",
      "  [ 0.83474302  0.17870621  0.35392484  0.56323014  0.60298822  0.89522493\n",
      "    0.24680797  0.5757689   0.26825413  0.10149497  0.21140807  0.87227544\n",
      "    0.60597337  0.48449035]\n",
      "  [ 0.09029151  0.16273493  0.83977996  0.50920386  0.57413786  0.59669338\n",
      "    0.61380901  0.30612392  0.04096838  0.01170204  0.81393493  0.9616515\n",
      "    0.71375069  0.49917244]\n",
      "  [ 0.23746465  0.54683351  0.9631701   0.17043419  0.46554106  0.84826766\n",
      "    0.73171945  0.80699686  0.38039006  0.80530935  0.62502223  0.56417055\n",
      "    0.88750603  0.5528099 ]]]\n"
     ]
    }
   ],
   "source": [
    "print(A[:, 9, :, :])"
   ]
  },
  {
   "cell_type": "code",
   "execution_count": 6,
   "metadata": {},
   "outputs": [
    {
     "name": "stdout",
     "output_type": "stream",
     "text": [
      "(1, 14, 14)\n"
     ]
    }
   ],
   "source": [
    "print(A[:, 9, :, :].shape)"
   ]
  },
  {
   "cell_type": "code",
   "execution_count": 7,
   "metadata": {
    "collapsed": true
   },
   "outputs": [],
   "source": [
    "A = np.random.rand(2,4)"
   ]
  },
  {
   "cell_type": "code",
   "execution_count": 8,
   "metadata": {},
   "outputs": [
    {
     "name": "stdout",
     "output_type": "stream",
     "text": [
      "(2,)\n"
     ]
    }
   ],
   "source": [
    "print(A[:,2].shape)"
   ]
  },
  {
   "cell_type": "code",
   "execution_count": 9,
   "metadata": {},
   "outputs": [
    {
     "name": "stdout",
     "output_type": "stream",
     "text": [
      "[ 0.31672262  0.93833877]\n"
     ]
    }
   ],
   "source": [
    "print(A[:,2])"
   ]
  },
  {
   "cell_type": "code",
   "execution_count": 10,
   "metadata": {},
   "outputs": [
    {
     "name": "stdout",
     "output_type": "stream",
     "text": [
      "[[ 0.18428705  0.15297798  0.31672262  0.72918344]\n",
      " [ 0.66283347  0.86112212  0.93833877  0.27408094]]\n"
     ]
    }
   ],
   "source": [
    "print(A\n",
    "    )"
   ]
  },
  {
   "cell_type": "code",
   "execution_count": 11,
   "metadata": {},
   "outputs": [
    {
     "ename": "ValueError",
     "evalue": "low >= high",
     "traceback": [
      "\u001b[1;31m---------------------------------------------------------------------------\u001b[0m",
      "\u001b[1;31mValueError\u001b[0m                                Traceback (most recent call last)",
      "\u001b[1;32m<ipython-input-11-2c6347996b69>\u001b[0m in \u001b[0;36m<module>\u001b[1;34m()\u001b[0m\n\u001b[1;32m----> 1\u001b[1;33m \u001b[0mA\u001b[0m \u001b[1;33m=\u001b[0m \u001b[0mnp\u001b[0m\u001b[1;33m.\u001b[0m\u001b[0mrandom\u001b[0m\u001b[1;33m.\u001b[0m\u001b[0mrandint\u001b[0m\u001b[1;33m(\u001b[0m\u001b[1;36m18\u001b[0m\u001b[1;33m,\u001b[0m \u001b[1;36m14\u001b[0m\u001b[1;33m,\u001b[0m \u001b[1;36m14\u001b[0m\u001b[1;33m)\u001b[0m\u001b[1;33m\u001b[0m\u001b[0m\n\u001b[0m",
      "\u001b[1;32mmtrand.pyx\u001b[0m in \u001b[0;36mmtrand.RandomState.randint (numpy\\random\\mtrand\\mtrand.c:16117)\u001b[1;34m()\u001b[0m\n",
      "\u001b[1;31mValueError\u001b[0m: low >= high"
     ],
     "output_type": "error"
    }
   ],
   "source": [
    "A = np.random.randint(18, 14, 14)"
   ]
  },
  {
   "cell_type": "code",
   "execution_count": 12,
   "metadata": {
    "collapsed": true
   },
   "outputs": [],
   "source": [
    "A = np.random.randint(0, 2, size=(18, 14, 14))"
   ]
  },
  {
   "cell_type": "code",
   "execution_count": 13,
   "metadata": {},
   "outputs": [
    {
     "name": "stdout",
     "output_type": "stream",
     "text": [
      "[[[1 0 1 ..., 1 0 0]\n",
      "  [0 0 1 ..., 1 0 1]\n",
      "  [0 1 1 ..., 1 1 1]\n",
      "  ..., \n",
      "  [1 1 0 ..., 1 0 1]\n",
      "  [0 1 0 ..., 0 1 1]\n",
      "  [1 1 1 ..., 1 1 0]]\n",
      "\n",
      " [[1 1 1 ..., 1 1 0]\n",
      "  [0 1 1 ..., 0 1 0]\n",
      "  [0 1 1 ..., 1 1 0]\n",
      "  ..., \n",
      "  [0 1 1 ..., 1 1 0]\n",
      "  [0 1 1 ..., 0 1 1]\n",
      "  [0 1 1 ..., 1 1 1]]\n",
      "\n",
      " [[0 0 0 ..., 0 1 1]\n",
      "  [1 0 0 ..., 0 0 0]\n",
      "  [1 0 0 ..., 0 1 0]\n",
      "  ..., \n",
      "  [0 1 0 ..., 1 1 1]\n",
      "  [1 0 1 ..., 1 0 1]\n",
      "  [1 0 1 ..., 1 0 0]]\n",
      "\n",
      " ..., \n",
      " [[0 0 1 ..., 1 1 1]\n",
      "  [1 0 0 ..., 1 0 0]\n",
      "  [1 0 1 ..., 1 0 0]\n",
      "  ..., \n",
      "  [1 0 1 ..., 1 0 0]\n",
      "  [0 0 0 ..., 1 0 0]\n",
      "  [0 0 0 ..., 1 0 0]]\n",
      "\n",
      " [[1 0 1 ..., 1 0 1]\n",
      "  [1 1 1 ..., 0 0 0]\n",
      "  [1 0 0 ..., 0 0 0]\n",
      "  ..., \n",
      "  [1 1 1 ..., 0 1 0]\n",
      "  [0 0 0 ..., 1 0 0]\n",
      "  [0 0 0 ..., 1 1 0]]\n",
      "\n",
      " [[1 1 1 ..., 0 0 0]\n",
      "  [1 1 1 ..., 1 1 0]\n",
      "  [1 1 0 ..., 1 0 1]\n",
      "  ..., \n",
      "  [0 0 0 ..., 1 0 0]\n",
      "  [0 1 1 ..., 1 1 0]\n",
      "  [0 1 1 ..., 1 0 1]]]\n"
     ]
    }
   ],
   "source": [
    "print(A\n",
    "    )"
   ]
  },
  {
   "cell_type": "code",
   "execution_count": 14,
   "metadata": {},
   "outputs": [
    {
     "name": "stdout",
     "output_type": "stream",
     "text": [
      "[[1 0 1 0 0 0 1 1 1 1 0 0 0 1]\n",
      " [1 1 0 1 0 1 1 1 1 1 0 0 1 1]\n",
      " [0 0 0 0 1 0 1 1 0 0 0 1 0 1]\n",
      " [0 0 1 1 0 0 0 1 1 1 0 0 1 0]\n",
      " [1 1 0 0 1 0 0 0 1 0 0 0 0 1]\n",
      " [0 0 0 0 1 1 0 1 0 0 0 0 1 0]\n",
      " [0 0 1 1 1 1 0 0 1 0 1 1 1 0]\n",
      " [0 1 0 0 1 1 1 0 1 1 0 1 1 0]\n",
      " [1 1 1 0 0 1 1 0 0 0 1 1 1 1]\n",
      " [1 1 0 1 1 1 0 1 1 1 1 1 1 1]\n",
      " [1 1 0 1 0 0 1 0 1 0 0 0 0 1]\n",
      " [1 0 0 0 1 0 1 0 1 0 0 1 1 0]\n",
      " [0 1 0 0 1 1 0 1 0 1 1 0 1 1]\n",
      " [0 1 0 1 0 1 0 1 1 0 1 1 0 0]]\n"
     ]
    }
   ],
   "source": [
    "print(A[9, :, :])"
   ]
  },
  {
   "cell_type": "code",
   "execution_count": 15,
   "metadata": {},
   "outputs": [
    {
     "name": "stdout",
     "output_type": "stream",
     "text": [
      "(9, 14, 14)\n"
     ]
    }
   ],
   "source": [
    "print(A[9:, :, :].shape)"
   ]
  },
  {
   "cell_type": "code",
   "execution_count": 16,
   "metadata": {
    "collapsed": true
   },
   "outputs": [],
   "source": [
    "A = np.random.rand(1,18, 14, 14)"
   ]
  },
  {
   "cell_type": "code",
   "execution_count": 17,
   "metadata": {},
   "outputs": [
    {
     "name": "stdout",
     "output_type": "stream",
     "text": [
      "(1, 9, 14, 14)\n"
     ]
    }
   ],
   "source": [
    "print(A[:, 9:, :, :].shape)"
   ]
  },
  {
   "cell_type": "code",
   "execution_count": null,
   "metadata": {
    "collapsed": true
   },
   "outputs": [],
   "source": []
  }
 ],
 "metadata": {
  "kernelspec": {
   "display_name": "Python 3",
   "language": "python",
   "name": "python3"
  },
  "language_info": {
   "codemirror_mode": {
    "name": "ipython",
    "version": 3
   },
   "file_extension": ".py",
   "mimetype": "text/x-python",
   "name": "python",
   "nbconvert_exporter": "python",
   "pygments_lexer": "ipython3",
   "version": "3.6.1"
  }
 },
 "nbformat": 4,
 "nbformat_minor": 1
}
